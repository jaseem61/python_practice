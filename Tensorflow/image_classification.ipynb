{
  "nbformat": 4,
  "nbformat_minor": 0,
  "metadata": {
    "colab": {
      "name": "image_classification.ipynb",
      "provenance": [],
      "collapsed_sections": []
    },
    "kernelspec": {
      "name": "python3",
      "display_name": "Python 3"
    }
  },
  "cells": [
    {
      "cell_type": "code",
      "metadata": {
        "id": "gERYopAcL5ju",
        "colab_type": "code",
        "colab": {
          "base_uri": "https://localhost:8080/",
          "height": 35
        },
        "outputId": "b8c2c81d-be1a-471b-8d88-a024e1510bfe"
      },
      "source": [
        "import tensorflow as tf\n",
        "print(tf.__version__)"
      ],
      "execution_count": 1,
      "outputs": [
        {
          "output_type": "stream",
          "text": [
            "2.2.0-rc2\n"
          ],
          "name": "stdout"
        }
      ]
    },
    {
      "cell_type": "code",
      "metadata": {
        "id": "FGUOCCjoMXkx",
        "colab_type": "code",
        "colab": {}
      },
      "source": [
        "mnist=tf.keras.datasets.fashion_mnist"
      ],
      "execution_count": 0,
      "outputs": []
    },
    {
      "cell_type": "code",
      "metadata": {
        "id": "ttjEVVOyMgwP",
        "colab_type": "code",
        "colab": {
          "base_uri": "https://localhost:8080/",
          "height": 162
        },
        "outputId": "f7744a9b-08d9-4946-bd8d-df7049c23db4"
      },
      "source": [
        "(training_images,training_labels),(test_images,test_labels)=mnist.load_data()"
      ],
      "execution_count": 4,
      "outputs": [
        {
          "output_type": "stream",
          "text": [
            "Downloading data from https://storage.googleapis.com/tensorflow/tf-keras-datasets/train-labels-idx1-ubyte.gz\n",
            "32768/29515 [=================================] - 0s 0us/step\n",
            "Downloading data from https://storage.googleapis.com/tensorflow/tf-keras-datasets/train-images-idx3-ubyte.gz\n",
            "26427392/26421880 [==============================] - 0s 0us/step\n",
            "Downloading data from https://storage.googleapis.com/tensorflow/tf-keras-datasets/t10k-labels-idx1-ubyte.gz\n",
            "8192/5148 [===============================================] - 0s 0us/step\n",
            "Downloading data from https://storage.googleapis.com/tensorflow/tf-keras-datasets/t10k-images-idx3-ubyte.gz\n",
            "4423680/4422102 [==============================] - 0s 0us/step\n"
          ],
          "name": "stdout"
        }
      ]
    },
    {
      "cell_type": "code",
      "metadata": {
        "id": "wvhL2DSVM3zJ",
        "colab_type": "code",
        "colab": {
          "base_uri": "https://localhost:8080/",
          "height": 792
        },
        "outputId": "a82be8ad-f37f-4afe-b0c2-ec40facbdfc5"
      },
      "source": [
        "import numpy as np\n",
        "np.set_printoptions(linewidth=200)\n",
        "import matplotlib.pyplot as plt\n",
        "%matplotlib inline\n",
        "plt.imshow(training_images[3])\n",
        "print(training_labels[3])\n",
        "print(training_images[3])"
      ],
      "execution_count": 15,
      "outputs": [
        {
          "output_type": "stream",
          "text": [
            "3\n",
            "[[  0.   0.   0.   0.   0.   0.   0.   0.  33.  96. 175. 156.  64.  14.  54. 137. 204. 194. 102.   0.   0.   0.   0.   0.   0.   0.   0.   0.]\n",
            " [  0.   0.   0.   0.   0.   0.  73. 186. 177. 183. 175. 188. 232. 255. 223. 219. 194. 179. 186. 213. 146.   0.   0.   0.   0.   0.   0.   0.]\n",
            " [  0.   0.   0.   0.   0.  35. 163. 140. 150. 152. 150. 146. 175. 175. 173. 171. 156. 152. 148. 129. 156. 140.   0.   0.   0.   0.   0.   0.]\n",
            " [  0.   0.   0.   0.   0. 150. 142. 140. 152. 160. 156. 146. 142. 127. 135. 133. 140. 140. 137. 133. 125. 169.  75.   0.   0.   0.   0.   0.]\n",
            " [  0.   0.   0.   0.   0.  54. 167. 146. 129. 142. 137. 137. 131. 148. 148. 133. 131. 131. 131. 125. 140. 140.   0.   0.   0.   0.   0.   0.]\n",
            " [  0.   0.   0.   0.   0.   0. 110. 188. 133. 146. 152. 133. 125. 127. 119. 129. 133. 119. 140. 131. 150.  14.   0.   0.   0.   0.   0.   0.]\n",
            " [  0.   0.   0.   0.   0.   0.   0. 221. 158. 137. 135. 123. 110. 110. 114. 108. 112. 117. 127. 142.  77.   0.   0.   0.   0.   0.   0.   0.]\n",
            " [  0.   0.   0.   0.   0.   4.   0.  25. 158. 137. 125. 119. 119. 110. 117. 117. 110. 119. 127. 144.   0.   0.   0.   0.   0.   0.   0.   0.]\n",
            " [  0.   0.   0.   0.   0.   0.   0.   0. 123. 156. 129. 112. 110. 102. 112. 100. 121. 117. 129. 114.   0.   0.   0.   0.   0.   0.   0.   0.]\n",
            " [  0.   0.   0.   0.   0.   0.   0.   0. 125. 169. 127. 119. 106. 108. 104.  94. 121. 114. 129.  91.   0.   0.   0.   0.   0.   0.   0.   0.]\n",
            " [  0.   0.   0.   0.   0.   0.   2.   0.  98. 171. 129. 112. 104. 114. 106. 102. 112. 104. 133.  64.   0.   4.   0.   0.   0.   0.   0.   0.]\n",
            " [  0.   0.   0.   0.   0.   0.   2.   0.  66. 173. 135. 129.  98. 100. 119. 102. 108.  98. 135.  60.   0.   4.   0.   0.   0.   0.   0.   0.]\n",
            " [  0.   0.   0.   0.   0.   0.   2.   0.  56. 171. 135. 127. 100. 108. 117.  85. 106. 110. 135.  66.   0.   4.   0.   0.   0.   0.   0.   0.]\n",
            " [  0.   0.   0.   0.   0.   0.   0.   0.  52. 150. 129. 110. 100.  91. 102.  94.  83. 104. 123.  66.   0.   4.   0.   0.   0.   0.   0.   0.]\n",
            " [  0.   0.   0.   0.   0.   0.   2.   0.  66. 167. 140. 148. 148. 127. 137. 152. 146. 146. 148.  96.   0.   0.   0.   0.   0.   0.   0.   0.]\n",
            " [  0.   0.   0.   0.   0.   0.   0.   0.  45. 123.  94. 104.  96. 119. 121. 106.  98. 112.  87. 114.   0.   0.   0.   0.   0.   0.   0.   0.]\n",
            " [  0.   0.   0.   0.   0.   0.   0.   0. 106.  89.  58.  50.  37.  50.  66.  56.  50.  75.  75. 137.  22.   0.   2.   0.   0.   0.   0.   0.]\n",
            " [  0.   0.   0.   0.   0.   2.   0.  29. 148. 114. 106. 125.  89. 100. 133. 117. 131. 131. 131. 125. 112.   0.   0.   0.   0.   0.   0.   0.]\n",
            " [  0.   0.   0.   0.   0.   0.   0. 100. 106. 114.  91. 137.  62. 102. 131.  89. 135. 112. 131. 108. 135.  37.   0.   0.   0.   0.   0.   0.]\n",
            " [  0.   0.   0.   0.   0.   0.   0. 146. 100. 108.  98. 144.  62. 106. 131.  87. 133. 104. 160. 117. 121.  68.   0.   0.   0.   0.   0.   0.]\n",
            " [  0.   0.   0.   0.   0.   0.  33. 121. 108.  96. 100. 140.  71. 106. 127.  85. 140. 104. 150. 140. 114.  89.   0.   0.   0.   0.   0.   0.]\n",
            " [  0.   0.   0.   0.   0.   0.  62. 119. 112. 102. 110. 137.  75. 106. 144.  81. 144. 108. 117. 154. 117. 104.  18.   0.   0.   0.   0.   0.]\n",
            " [  0.   0.   0.   0.   0.   0.  66. 121. 102. 112. 117. 131.  73. 104. 156.  77. 137. 135.  83. 179. 129. 121.  35.   0.   0.   0.   0.   0.]\n",
            " [  0.   0.   0.   0.   0.   0.  85. 127.  81. 125. 133. 119.  79. 100. 169.  83. 129. 175.  60. 163. 135. 146.  39.   0.   0.   0.   0.   0.]\n",
            " [  0.   0.   0.   0.   0.   0. 106. 129.  62. 140. 144. 108.  85.  83. 158.  85. 129. 175.  48. 146. 133. 135.  64.   0.   0.   0.   0.   0.]\n",
            " [  0.   0.   0.   0.   0.   0. 117. 119.  79. 140. 152. 102.  89. 110. 137.  96. 150. 196.  83. 144. 135. 133.  77.   0.   0.   0.   0.   0.]\n",
            " [  0.   0.   0.   0.   0.   0. 154. 121.  87. 140. 154. 112.  94.  52. 142. 100.  83. 152.  85. 160. 133. 100.  12.   0.   0.   0.   0.   0.]\n",
            " [  0.   0.   0.   0.   0.   0.   4.   0.   2.   0.  35.   4.  33.   0.   0.   0.   0.   0.   0.   0.   0.   0.   0.   0.   0.   0.   0.   0.]]\n"
          ],
          "name": "stdout"
        },
        {
          "output_type": "display_data",
          "data": {
            "image/png": "[encoded data removed]",
            "text/plain": [
              "<Figure size 432x288 with 1 Axes>"
            ]
          },
          "metadata": {
            "tags": [],
            "needs_background": "light"
          }
        }
      ]
    },
    {
      "cell_type": "code",
      "metadata": {
        "id": "XqMVYsWdOZVp",
        "colab_type": "code",
        "colab": {}
      },
      "source": [
        "training_images=training_images/255.0\n",
        "test_images=test_images/255.0"
      ],
      "execution_count": 0,
      "outputs": []
    },
    {
      "cell_type": "code",
      "metadata": {
        "id": "h5UqWX1tP7uI",
        "colab_type": "code",
        "colab": {}
      },
      "source": [
        "model = tf.keras.models.Sequential([tf.keras.layers.Flatten(), \n",
        "                                    tf.keras.layers.Dense(256, activation=tf.nn.relu), \n",
        "                                    tf.keras.layers.Dense(10, activation=tf.nn.softmax)])"
      ],
      "execution_count": 0,
      "outputs": []
    },
    {
      "cell_type": "code",
      "metadata": {
        "id": "urJ9idB9Rps9",
        "colab_type": "code",
        "colab": {}
      },
      "source": [
        "model.compile(optimizer=tf.optimizers.Adam(),\n",
        "              loss='sparse_categorical_crossentropy',\n",
        "              metrics=['accuracy'])"
      ],
      "execution_count": 0,
      "outputs": []
    },
    {
      "cell_type": "code",
      "metadata": {
        "id": "c6LcyNu1SoNa",
        "colab_type": "code",
        "colab": {
          "base_uri": "https://localhost:8080/",
          "height": 399
        },
        "outputId": "a88f9cf1-a1e7-4484-ed89-f0f0a309c1e9"
      },
      "source": [
        "model.fit(training_images,training_labels,epochs=10)"
      ],
      "execution_count": 28,
      "outputs": [
        {
          "output_type": "stream",
          "text": [
            "Epoch 1/10\n",
            "1875/1875 [==============================] - 5s 3ms/step - loss: 0.9662 - accuracy: 0.6912\n",
            "Epoch 2/10\n",
            "1875/1875 [==============================] - 5s 3ms/step - loss: 0.5891 - accuracy: 0.7871\n",
            "Epoch 3/10\n",
            "1875/1875 [==============================] - 5s 3ms/step - loss: 0.5226 - accuracy: 0.8145\n",
            "Epoch 4/10\n",
            "1875/1875 [==============================] - 5s 3ms/step - loss: 0.4861 - accuracy: 0.8279\n",
            "Epoch 5/10\n",
            "1875/1875 [==============================] - 5s 3ms/step - loss: 0.4618 - accuracy: 0.8361\n",
            "Epoch 6/10\n",
            "1875/1875 [==============================] - 5s 3ms/step - loss: 0.4452 - accuracy: 0.8426\n",
            "Epoch 7/10\n",
            "1875/1875 [==============================] - 5s 3ms/step - loss: 0.4312 - accuracy: 0.8484\n",
            "Epoch 8/10\n",
            "1875/1875 [==============================] - 5s 3ms/step - loss: 0.4205 - accuracy: 0.8517\n",
            "Epoch 9/10\n",
            "1875/1875 [==============================] - 5s 3ms/step - loss: 0.4114 - accuracy: 0.8553\n",
            "Epoch 10/10\n",
            "1875/1875 [==============================] - 5s 3ms/step - loss: 0.4043 - accuracy: 0.8573\n"
          ],
          "name": "stdout"
        },
        {
          "output_type": "execute_result",
          "data": {
            "text/plain": [
              "<tensorflow.python.keras.callbacks.History at 0x7ff782ac8b70>"
            ]
          },
          "metadata": {
            "tags": []
          },
          "execution_count": 28
        }
      ]
    },
    {
      "cell_type": "code",
      "metadata": {
        "id": "RZjB6E9XTE4r",
        "colab_type": "code",
        "colab": {
          "base_uri": "https://localhost:8080/",
          "height": 53
        },
        "outputId": "59680999-61f1-4473-9e8d-e5ef3c5fdc9a"
      },
      "source": [
        "model.evaluate(test_images,test_labels)"
      ],
      "execution_count": 29,
      "outputs": [
        {
          "output_type": "stream",
          "text": [
            "313/313 [==============================] - 0s 1ms/step - loss: 0.4354 - accuracy: 0.8423\n"
          ],
          "name": "stdout"
        },
        {
          "output_type": "execute_result",
          "data": {
            "text/plain": [
              "[0.43542957305908203, 0.8422999978065491]"
            ]
          },
          "metadata": {
            "tags": []
          },
          "execution_count": 29
        }
      ]
    },
    {
      "cell_type": "code",
      "metadata": {
        "id": "p-j2vd-rTk2T",
        "colab_type": "code",
        "colab": {}
      },
      "source": [
        "classifications=model.predict(test_images)"
      ],
      "execution_count": 0,
      "outputs": []
    },
    {
      "cell_type": "code",
      "metadata": {
        "id": "CEWiUbNHUcEH",
        "colab_type": "code",
        "colab": {
          "base_uri": "https://localhost:8080/",
          "height": 35
        },
        "outputId": "88f2aa53-11e1-4dd9-e04b-893509874e5e"
      },
      "source": [
        "print(classifications[0])"
      ],
      "execution_count": 31,
      "outputs": [
        {
          "output_type": "stream",
          "text": [
            "[4.1831771e-07 4.1642366e-08 4.2185907e-06 2.6471344e-06 7.1470513e-06 1.0678500e-01 1.7527796e-05 2.5025976e-01 4.3337736e-03 6.3858944e-01]\n"
          ],
          "name": "stdout"
        }
      ]
    },
    {
      "cell_type": "code",
      "metadata": {
        "id": "ZQSVyrAUUgWm",
        "colab_type": "code",
        "colab": {
          "base_uri": "https://localhost:8080/",
          "height": 35
        },
        "outputId": "71ce2b66-51f2-41a9-c637-13836c523f80"
      },
      "source": [
        "print(test_labels[0])"
      ],
      "execution_count": 32,
      "outputs": [
        {
          "output_type": "stream",
          "text": [
            "9\n"
          ],
          "name": "stdout"
        }
      ]
    },
    {
      "cell_type": "code",
      "metadata": {
        "id": "H2YXfFVLUvlH",
        "colab_type": "code",
        "colab": {
          "base_uri": "https://localhost:8080/",
          "height": 35
        },
        "outputId": "45577bee-a3d9-4914-b124-a20c48c425a2"
      },
      "source": [
        "print(classifications[2])"
      ],
      "execution_count": 33,
      "outputs": [
        {
          "output_type": "stream",
          "text": [
            "[3.3099557e-05 9.9982244e-01 5.2237028e-06 7.4245094e-05 6.4991655e-05 4.5437943e-13 5.7286240e-08 3.2856617e-10 1.4426303e-08 7.5494905e-12]\n"
          ],
          "name": "stdout"
        }
      ]
    },
    {
      "cell_type": "code",
      "metadata": {
        "id": "gDhXdU3yVP-O",
        "colab_type": "code",
        "colab": {
          "base_uri": "https://localhost:8080/",
          "height": 35
        },
        "outputId": "459d3045-8f98-46c9-ecaa-564d9c878d57"
      },
      "source": [
        "print(test_labels[2])"
      ],
      "execution_count": 34,
      "outputs": [
        {
          "output_type": "stream",
          "text": [
            "1\n"
          ],
          "name": "stdout"
        }
      ]
    },
    {
      "cell_type": "code",
      "metadata": {
        "id": "aO2QPSLDVYgi",
        "colab_type": "code",
        "colab": {}
      },
      "source": [
        ""
      ],
      "execution_count": 0,
      "outputs": []
    }
  ]
}